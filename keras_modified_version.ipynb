{
 "cells": [
  {
   "cell_type": "code",
   "execution_count": 35,
   "metadata": {
    "colab": {
     "autoexec": {
      "startup": false,
      "wait_interval": 0
     }
    },
    "colab_type": "code",
    "collapsed": false,
    "id": "qktAMHpzO2Pa"
   },
   "outputs": [],
   "source": [
    "import numpy as np\n",
    "import pandas as pd\n",
    "import pickle\n",
    "from collections import defaultdict\n",
    "import re\n",
    "from bs4 import BeautifulSoup\n",
    "import sys\n",
    "import os\n",
    "os.environ['KERAS_BACKEND']='tensorflow'\n",
    "from keras.preprocessing.text import Tokenizer,text_to_word_sequence\n",
    "from keras.preprocessing.sequence import pad_sequences\n",
    "from keras.utils.np_utils import to_categorical\n",
    "from keras.layers import Embedding\n",
    "from keras.layers import Dense, Input, Flatten\n",
    "from keras.layers import Conv1D, MaxPooling1D, Embedding, Dropout, LSTM, GRU, Bidirectional, TimeDistributed\n",
    "from keras.models import Model\n",
    "from keras.callbacks import ModelCheckpoint\n",
    "import matplotlib.pyplot as plt\n",
    "plt.switch_backend('agg')\n",
    "from keras import backend as K\n",
    "from keras.engine.topology import Layer, InputSpec\n",
    "from keras import initializers\n",
    "%matplotlib inline"
   ]
  },
  {
   "cell_type": "code",
   "execution_count": 36,
   "metadata": {
    "colab": {
     "autoexec": {
      "startup": false,
      "wait_interval": 0
     }
    },
    "colab_type": "code",
    "collapsed": true,
    "id": "dYh0z7QmO4Fd"
   },
   "outputs": [],
   "source": [
    "def clean_str(string):\n",
    "    string = re.sub(r\"\\\\\", \"\", string)\n",
    "    string = re.sub(r\"\\'\", \"\", string)\n",
    "    string = re.sub(r\"\\\"\", \"\", string)\n",
    "    return string.strip().lower()"
   ]
  },
  {
   "cell_type": "code",
   "execution_count": 37,
   "metadata": {
    "colab": {
     "autoexec": {
      "startup": false,
      "wait_interval": 0
     }
    },
    "colab_type": "code",
    "collapsed": true,
    "id": "Ojcss8mgPVu1"
   },
   "outputs": [],
   "source": [
    "MAX_SENT_LENGTH = 100\n",
    "MAX_SENTS = 15\n",
    "MAX_NB_WORDS = 20000\n",
    "EMBEDDING_DIM = 100\n",
    "VALIDATION_SPLIT = 0.2"
   ]
  },
  {
   "cell_type": "code",
   "execution_count": 38,
   "metadata": {
    "colab": {
     "autoexec": {
      "startup": false,
      "wait_interval": 0
     },
     "base_uri": "https://localhost:8080/",
     "height": 68
    },
    "colab_type": "code",
    "collapsed": false,
    "executionInfo": {
     "elapsed": 971,
     "status": "ok",
     "timestamp": 1530792394012,
     "user": {
      "displayName": "Akshat Maheshwari",
      "photoUrl": "//lh5.googleusercontent.com/-f-xJkriVoaI/AAAAAAAAAAI/AAAAAAAAAVQ/TLGa4qObGgQ/s50-c-k-no/photo.jpg",
      "userId": "114426356464940466000"
     },
     "user_tz": -330
    },
    "id": "HwpX0l5_PX6P",
    "outputId": "6752cb14-6065-454e-8ec1-5f1d07713469"
   },
   "outputs": [
    {
     "name": "stdout",
     "output_type": "stream",
     "text": [
      "Shape of dataset  (6335, 5)\n",
      "Index(['Unnamed: 0', 'title', 'text', 'label', 'title_vectors'], dtype='object')\n",
      "No. of unique classes 2\n"
     ]
    }
   ],
   "source": [
    "# reading data\n",
    "df = pd.read_csv('data/fake_or_real_news.csv')\n",
    "df = df.dropna()\n",
    "df = df.reset_index(drop=True)\n",
    "print('Shape of dataset ',df.shape)\n",
    "print(df.columns)\n",
    "print('No. of unique classes',len(set(df['label'])))"
   ]
  },
  {
   "cell_type": "code",
   "execution_count": 39,
   "metadata": {
    "colab": {
     "autoexec": {
      "startup": false,
      "wait_interval": 0
     }
    },
    "colab_type": "code",
    "collapsed": true,
    "id": "BDWpT4AOPbKr"
   },
   "outputs": [],
   "source": [
    "import nltk\n",
    "from nltk import tokenize\n",
    "\n",
    "reviews = []\n",
    "labels = []\n",
    "texts = []\n"
   ]
  },
  {
   "cell_type": "code",
   "execution_count": 40,
   "metadata": {
    "colab": {
     "autoexec": {
      "startup": false,
      "wait_interval": 0
     }
    },
    "colab_type": "code",
    "collapsed": true,
    "id": "s-XcxOfYPgvo"
   },
   "outputs": [],
   "source": [
    "macronum=sorted(set(df['label']))\n",
    "macro_to_id = dict((note, number) for number, note in enumerate(macronum))"
   ]
  },
  {
   "cell_type": "code",
   "execution_count": 41,
   "metadata": {
    "colab": {
     "autoexec": {
      "startup": false,
      "wait_interval": 0
     }
    },
    "colab_type": "code",
    "collapsed": true,
    "id": "hQH-nqcHPkSS"
   },
   "outputs": [],
   "source": [
    "def fun(i):\n",
    "    return macro_to_id[i]\n",
    "\n",
    "df['label']=df['label'].apply(fun)"
   ]
  },
  {
   "cell_type": "code",
   "execution_count": 42,
   "metadata": {
    "colab": {
     "autoexec": {
      "startup": false,
      "wait_interval": 0
     },
     "base_uri": "https://localhost:8080/",
     "height": 224
    },
    "colab_type": "code",
    "collapsed": false,
    "executionInfo": {
     "elapsed": 978,
     "status": "ok",
     "timestamp": 1530792399003,
     "user": {
      "displayName": "Akshat Maheshwari",
      "photoUrl": "//lh5.googleusercontent.com/-f-xJkriVoaI/AAAAAAAAAAI/AAAAAAAAAVQ/TLGa4qObGgQ/s50-c-k-no/photo.jpg",
      "userId": "114426356464940466000"
     },
     "user_tz": -330
    },
    "id": "CFQQzuHZPtD6",
    "outputId": "dc8d1570-1b81-47fd-c3d6-26068d8e603d"
   },
   "outputs": [
    {
     "name": "stderr",
     "output_type": "stream",
     "text": [
      "D:\\code\\python\\Anaconda3\\lib\\site-packages\\bs4\\__init__.py:181: UserWarning: No parser was explicitly specified, so I'm using the best available HTML parser for this system (\"lxml\"). This usually isn't a problem, but if you run this code on another system, or in a different virtual environment, it may use a different parser and behave differently.\n",
      "\n",
      "The code that caused this warning is on line 193 of the file D:\\code\\python\\Anaconda3\\lib\\runpy.py. To get rid of this warning, change code that looks like this:\n",
      "\n",
      " BeautifulSoup([your markup])\n",
      "\n",
      "to this:\n",
      "\n",
      " BeautifulSoup([your markup], \"lxml\")\n",
      "\n",
      "  markup_type=markup_type))\n"
     ]
    }
   ],
   "source": [
    "data_train = df['text'].values\n",
    "label_train = df['label'].values\n",
    "for i in range(len(data_train)):\n",
    "    text = BeautifulSoup(data_train[i])\n",
    "    text=clean_str(str(text.get_text().encode()).lower())\n",
    "    texts.append(text)\n",
    "    sentences = tokenize.sent_tokenize(text)\n",
    "    reviews.append(sentences)\n",
    "\n",
    "\n",
    "for i in df['label']:\n",
    "    labels.append(i)"
   ]
  },
  {
   "cell_type": "code",
   "execution_count": 43,
   "metadata": {
    "colab": {
     "autoexec": {
      "startup": false,
      "wait_interval": 0
     }
    },
    "colab_type": "code",
    "collapsed": true,
    "id": "WzwyO0qxQC2z"
   },
   "outputs": [],
   "source": [
    "tokenizer = Tokenizer(num_words=MAX_NB_WORDS)\n",
    "tokenizer.fit_on_texts(texts)\n",
    "\n",
    "data_former = np.zeros((len(texts), MAX_SENTS, MAX_SENT_LENGTH), dtype='int32')\n",
    "data_latter = np.zeros((len(texts), MAX_SENTS, MAX_SENT_LENGTH), dtype='int32')\n",
    "\n",
    "for i, sentences in enumerate(reviews):\n",
    "    for j, sent in enumerate(sentences):\n",
    "        if j< MAX_SENTS:\n",
    "            wordTokens = text_to_word_sequence(sent)\n",
    "            k=0\n",
    "            for _, word in enumerate(wordTokens):\n",
    "                if k<MAX_SENT_LENGTH and tokenizer.word_index[word]<MAX_NB_WORDS:\n",
    "                    data_former[i,j,k] = tokenizer.word_index[word]\n",
    "                    k=k+1\n",
    "        \n",
    "        j_verse = len(sentences)-1-j\n",
    "        \n",
    "        if j_verse < MAX_SENTS:\n",
    "            wordTokens = text_to_word_sequence(sent)\n",
    "            k=0\n",
    "            for _, word in enumerate(wordTokens):\n",
    "                if k<MAX_SENT_LENGTH and tokenizer.word_index[word]<MAX_NB_WORDS:\n",
    "                    data_latter[i,MAX_SENTS-1-j_verse,k] = tokenizer.word_index[word]\n",
    "                    k=k+1"
   ]
  },
  {
   "cell_type": "code",
   "execution_count": 46,
   "metadata": {
    "collapsed": false
   },
   "outputs": [
    {
     "data": {
      "text/plain": [
       "6335"
      ]
     },
     "execution_count": 46,
     "metadata": {},
     "output_type": "execute_result"
    }
   ],
   "source": [
    "len(data_former)"
   ]
  },
  {
   "cell_type": "code",
   "execution_count": 47,
   "metadata": {
    "collapsed": false
   },
   "outputs": [
    {
     "data": {
      "text/plain": [
       "6335"
      ]
     },
     "execution_count": 47,
     "metadata": {},
     "output_type": "execute_result"
    }
   ],
   "source": [
    "len(data_latter)"
   ]
  },
  {
   "cell_type": "code",
   "execution_count": 48,
   "metadata": {
    "colab": {
     "autoexec": {
      "startup": false,
      "wait_interval": 0
     },
     "base_uri": "https://localhost:8080/",
     "height": 34
    },
    "colab_type": "code",
    "collapsed": false,
    "executionInfo": {
     "elapsed": 1092,
     "status": "ok",
     "timestamp": 1530792401443,
     "user": {
      "displayName": "Akshat Maheshwari",
      "photoUrl": "//lh5.googleusercontent.com/-f-xJkriVoaI/AAAAAAAAAAI/AAAAAAAAAVQ/TLGa4qObGgQ/s50-c-k-no/photo.jpg",
      "userId": "114426356464940466000"
     },
     "user_tz": -330
    },
    "id": "M9u7IPzpQU7K",
    "outputId": "c7d191a4-3fe0-4966-b743-399a094ec637"
   },
   "outputs": [
    {
     "name": "stdout",
     "output_type": "stream",
     "text": [
      "No. of 110291 unique tokens.\n"
     ]
    }
   ],
   "source": [
    "word_index = tokenizer.word_index\n",
    "print('No. of %s unique tokens.' % len(word_index))"
   ]
  },
  {
   "cell_type": "code",
   "execution_count": 49,
   "metadata": {
    "colab": {
     "autoexec": {
      "startup": false,
      "wait_interval": 0
     },
     "base_uri": "https://localhost:8080/",
     "height": 51
    },
    "colab_type": "code",
    "collapsed": false,
    "executionInfo": {
     "elapsed": 1420,
     "status": "ok",
     "timestamp": 1530792402941,
     "user": {
      "displayName": "Akshat Maheshwari",
      "photoUrl": "//lh5.googleusercontent.com/-f-xJkriVoaI/AAAAAAAAAAI/AAAAAAAAAVQ/TLGa4qObGgQ/s50-c-k-no/photo.jpg",
      "userId": "114426356464940466000"
     },
     "user_tz": -330
    },
    "id": "m-d7UKTIQcwp",
    "outputId": "c7a61c30-ecd3-467f-ee4e-39e883c865d3"
   },
   "outputs": [
    {
     "name": "stdout",
     "output_type": "stream",
     "text": [
      "Shape of data tensor: (6335, 15, 100)\n",
      "Shape of label tensor: (6335, 2)\n"
     ]
    }
   ],
   "source": [
    "labels = to_categorical(np.asarray(labels))\n",
    "print('Shape of data tensor:', data.shape)\n",
    "print('Shape of label tensor:', labels.shape)\n",
    "\n",
    "\n",
    "indices = np.arange(data.shape[0])\n",
    "np.random.shuffle(indices)\n",
    "data = data[indices]\n",
    "labels = labels[indices]\n",
    "nb_validation_samples = int(VALIDATION_SPLIT * data.shape[0])"
   ]
  },
  {
   "cell_type": "code",
   "execution_count": 50,
   "metadata": {
    "colab": {
     "autoexec": {
      "startup": false,
      "wait_interval": 0
     }
    },
    "colab_type": "code",
    "collapsed": true,
    "id": "Qx1U4OZiQgXV"
   },
   "outputs": [],
   "source": [
    "x_train_former = data_former[:-nb_validation_samples]\n",
    "x_train_latter = data_latter[:-nb_validation_samples]\n",
    "y_train = labels[:-nb_validation_samples]\n",
    "x_val_former = data_former[-nb_validation_samples:]\n",
    "x_val_latter = data_latter[-nb_validation_samples:]\n",
    "y_val = labels[-nb_validation_samples:]"
   ]
  },
  {
   "cell_type": "code",
   "execution_count": 51,
   "metadata": {
    "colab": {
     "autoexec": {
      "startup": false,
      "wait_interval": 0
     },
     "base_uri": "https://localhost:8080/",
     "height": 34
    },
    "colab_type": "code",
    "collapsed": false,
    "executionInfo": {
     "elapsed": 12425,
     "status": "ok",
     "timestamp": 1530792416542,
     "user": {
      "displayName": "Akshat Maheshwari",
      "photoUrl": "//lh5.googleusercontent.com/-f-xJkriVoaI/AAAAAAAAAAI/AAAAAAAAAVQ/TLGa4qObGgQ/s50-c-k-no/photo.jpg",
      "userId": "114426356464940466000"
     },
     "user_tz": -330
    },
    "id": "jaCt1zexQ7d2",
    "outputId": "8fb183ea-910e-4cab-fd75-7088cefe8f07"
   },
   "outputs": [
    {
     "name": "stdout",
     "output_type": "stream",
     "text": [
      "Total 400000 word vectors.\n"
     ]
    }
   ],
   "source": [
    "embeddings_index = {}\n",
    "f = open('data/glove.6B.100d.txt',encoding='utf8')\n",
    "for line in f:\n",
    "    values = line.split()\n",
    "    word = values[0]\n",
    "    coefs = np.asarray(values[1:], dtype='float32')\n",
    "    embeddings_index[word] = coefs\n",
    "f.close()\n",
    "\n",
    "print('Total %s word vectors.' % len(embeddings_index))"
   ]
  },
  {
   "cell_type": "code",
   "execution_count": 52,
   "metadata": {
    "colab": {
     "autoexec": {
      "startup": false,
      "wait_interval": 0
     }
    },
    "colab_type": "code",
    "collapsed": true,
    "id": "rUDWPQRvQ_B2"
   },
   "outputs": [],
   "source": [
    "embedding_matrix = np.random.random((len(word_index) + 1, EMBEDDING_DIM))\n",
    "for word, i in word_index.items():\n",
    "    embedding_vector = embeddings_index.get(word)\n",
    "    if embedding_vector is not None:\n",
    "        # words not found in embedding index will be all-zeros.\n",
    "        embedding_matrix[i] = embedding_vector\n",
    "\n",
    "embedding_layer = Embedding(len(word_index) + 1,\n",
    "                            EMBEDDING_DIM,\n",
    "                            weights=[embedding_matrix],\n",
    "                            input_length=MAX_SENT_LENGTH,\n",
    "                            trainable=True)"
   ]
  },
  {
   "cell_type": "code",
   "execution_count": 53,
   "metadata": {
    "colab": {
     "autoexec": {
      "startup": false,
      "wait_interval": 0
     },
     "base_uri": "https://localhost:8080/",
     "height": 343
    },
    "colab_type": "code",
    "collapsed": false,
    "executionInfo": {
     "elapsed": 124363,
     "status": "ok",
     "timestamp": 1530792542554,
     "user": {
      "displayName": "Akshat Maheshwari",
      "photoUrl": "//lh5.googleusercontent.com/-f-xJkriVoaI/AAAAAAAAAAI/AAAAAAAAAVQ/TLGa4qObGgQ/s50-c-k-no/photo.jpg",
      "userId": "114426356464940466000"
     },
     "user_tz": -330
    },
    "id": "zKz6YxXoRIEe",
    "outputId": "d99c8642-0990-4ff3-a351-69c63a41b636"
   },
   "outputs": [
    {
     "name": "stdout",
     "output_type": "stream",
     "text": [
      "Hierachical LSTM\n",
      "_________________________________________________________________\n",
      "Layer (type)                 Output Shape              Param #   \n",
      "=================================================================\n",
      "input_4 (InputLayer)         (None, 15, 100)           0         \n",
      "_________________________________________________________________\n",
      "time_distributed_2 (TimeDist (None, 15, 200)           11190000  \n",
      "_________________________________________________________________\n",
      "bidirectional_4 (Bidirection (None, 200)               240800    \n",
      "_________________________________________________________________\n",
      "predict_value (Dense)        (None, 2)                 402       \n",
      "=================================================================\n",
      "Total params: 11,431,202\n",
      "Trainable params: 11,431,202\n",
      "Non-trainable params: 0\n",
      "_________________________________________________________________\n"
     ]
    }
   ],
   "source": [
    "sentence_input = Input(shape=(MAX_SENT_LENGTH,), dtype='int32')\n",
    "embedded_sequences = embedding_layer(sentence_input)\n",
    "l_lstm = Bidirectional(LSTM(100))(embedded_sequences)\n",
    "sentEncoder = Model(sentence_input, l_lstm)\n",
    "\n",
    "review_input = Input(shape=(MAX_SENTS,MAX_SENT_LENGTH), dtype='int32')\n",
    "review_encoder = TimeDistributed(sentEncoder)(review_input)\n",
    "l_lstm_sent = Bidirectional(LSTM(100))(review_encoder)\n",
    "preds = Dense(len(macronum), activation='softmax',name='predict_value')(l_lstm_sent)\n",
    "model = Model(review_input, preds)\n",
    "\n",
    "model.compile(loss='categorical_crossentropy',\n",
    "              optimizer='rmsprop',\n",
    "              metrics=['acc'])\n",
    "\n",
    "print(\"Hierachical LSTM\")\n",
    "model.summary()"
   ]
  },
  {
   "cell_type": "code",
   "execution_count": null,
   "metadata": {
    "collapsed": false
   },
   "outputs": [],
   "source": [
    "#cp=ModelCheckpoint('model_han_.hdf5',monitor='val_acc',verbose=1,save_best_only=True)\n",
    "history1=model.fit(x_train_former, y_train, validation_data=(x_val_former, y_val),\n",
    "          epochs=1, batch_size=24)\n",
    "\n",
    "\n",
    "output_model = Model(inputs=model.input,outputs=model.get_layer('predict_value').output)\n",
    "\n",
    "pre_former = output_model.predict(x_val_former)"
   ]
  },
  {
   "cell_type": "code",
   "execution_count": 23,
   "metadata": {
    "collapsed": false
   },
   "outputs": [],
   "source": [
    "pre_former#former想要的值"
   ]
  },
  {
   "cell_type": "code",
   "execution_count": null,
   "metadata": {
    "collapsed": false
   },
   "outputs": [],
   "source": []
  },
  {
   "cell_type": "code",
   "execution_count": null,
   "metadata": {
    "collapsed": true
   },
   "outputs": [],
   "source": []
  },
  {
   "cell_type": "code",
   "execution_count": null,
   "metadata": {
    "collapsed": true
   },
   "outputs": [],
   "source": [
    "history2=model.fit(x_train_latter, y_train, validation_data=(x_val_latter, y_val),\n",
    "          epochs=1, batch_size=24)\n",
    "\n",
    "\n",
    "output_model = Model(inputs=model.input,outputs=model.get_layer('predict_value').output)\n",
    "\n",
    "pre_latter = output_model.predict(x_val_latter)"
   ]
  },
  {
   "cell_type": "code",
   "execution_count": null,
   "metadata": {
    "collapsed": true
   },
   "outputs": [],
   "source": [
    "pre_latter"
   ]
  },
  {
   "cell_type": "code",
   "execution_count": null,
   "metadata": {
    "collapsed": false
   },
   "outputs": [],
   "source": []
  },
  {
   "cell_type": "code",
   "execution_count": null,
   "metadata": {
    "collapsed": true
   },
   "outputs": [],
   "source": [
    "former=[]\n",
    "latter=[]\n",
    "label=[]\n",
    "for i in range(len(pre_former)):\n",
    "    former.append(1.65*pre_former[i][0]+pre_latter[i][0])#1.65这个是个参数可以随便调\n",
    "    latter.append(1.65*pre_former[i][1]+pre_latter[i][1])\n",
    "    if y_val[i][0]>y_val[i][1]:\n",
    "        label.append(1)\n",
    "    else:\n",
    "        label.append(0)\n",
    "            \n",
    "combine_predict_label=[]\n",
    "for i in range(len(former)):\n",
    "    if former[i]>latter[i]:\n",
    "        combine_predict_label.append(1)\n",
    "    else:\n",
    "        combine_predict_label.append(0)\n",
    "        \n",
    "count=0\n",
    "for i in range(len(label)):\n",
    "    if label[i]==combine_predict_label[i]:\n",
    "        count+=1\n",
    "print(count/len(label))"
   ]
  },
  {
   "cell_type": "code",
   "execution_count": null,
   "metadata": {
    "collapsed": true
   },
   "outputs": [],
   "source": []
  },
  {
   "cell_type": "code",
   "execution_count": null,
   "metadata": {
    "collapsed": true
   },
   "outputs": [],
   "source": []
  },
  {
   "cell_type": "code",
   "execution_count": null,
   "metadata": {
    "collapsed": true
   },
   "outputs": [],
   "source": []
  },
  {
   "cell_type": "code",
   "execution_count": null,
   "metadata": {
    "collapsed": true
   },
   "outputs": [],
   "source": []
  },
  {
   "cell_type": "code",
   "execution_count": null,
   "metadata": {
    "colab": {
     "autoexec": {
      "startup": false,
      "wait_interval": 0
     },
     "base_uri": "https://localhost:8080/",
     "height": 1074
    },
    "colab_type": "code",
    "collapsed": false,
    "executionInfo": {
     "elapsed": 608660,
     "status": "ok",
     "timestamp": 1530793151231,
     "user": {
      "displayName": "Akshat Maheshwari",
      "photoUrl": "//lh5.googleusercontent.com/-f-xJkriVoaI/AAAAAAAAAAI/AAAAAAAAAVQ/TLGa4qObGgQ/s50-c-k-no/photo.jpg",
      "userId": "114426356464940466000"
     },
     "user_tz": -330
    },
    "id": "EJKKRZnYRdIw",
    "outputId": "fafa35cc-0396-41fb-8faf-d994c6279fa0"
   },
   "outputs": [
    {
     "name": "stdout",
     "output_type": "stream",
     "text": [
      "Train on 5068 samples, validate on 1267 samples\n",
      "Epoch 1/15\n",
      "5068/5068 [==============================] - 970s 191ms/step - loss: 0.1302 - acc: 0.9584 - val_loss: 0.1247 - val_acc: 0.9676\n",
      "\n",
      "Epoch 00001: val_acc improved from -inf to 0.96764, saving model to model_han_.hdf5\n",
      "Epoch 2/15\n",
      "5068/5068 [==============================] - 999s 197ms/step - loss: 0.0708 - acc: 0.9813 - val_loss: 0.1136 - val_acc: 0.9740\n",
      "\n",
      "Epoch 00002: val_acc improved from 0.96764 to 0.97395, saving model to model_han_.hdf5\n",
      "Epoch 3/15\n",
      "5068/5068 [==============================] - 965s 190ms/step - loss: 0.0435 - acc: 0.9921 - val_loss: 0.0892 - val_acc: 0.9866\n",
      "\n",
      "Epoch 00003: val_acc improved from 0.97395 to 0.98658, saving model to model_han_.hdf5\n",
      "Epoch 4/15\n",
      "5068/5068 [==============================] - 1057s 209ms/step - loss: 0.0319 - acc: 0.9951 - val_loss: 0.1751 - val_acc: 0.9747\n",
      "\n",
      "Epoch 00004: val_acc did not improve from 0.98658\n",
      "Epoch 5/15\n",
      "5068/5068 [==============================] - 1213s 239ms/step - loss: 0.0164 - acc: 0.9972 - val_loss: 0.2008 - val_acc: 0.9818\n",
      "\n",
      "Epoch 00005: val_acc did not improve from 0.98658\n",
      "Epoch 6/15\n",
      "5068/5068 [==============================] - 1045s 206ms/step - loss: 0.0050 - acc: 0.9992 - val_loss: 0.1796 - val_acc: 0.9834\n",
      "\n",
      "Epoch 00006: val_acc did not improve from 0.98658\n",
      "Epoch 7/15\n",
      "5068/5068 [==============================] - 993s 196ms/step - loss: 0.0069 - acc: 0.9994 - val_loss: 0.3772 - val_acc: 0.9653\n",
      "\n",
      "Epoch 00007: val_acc did not improve from 0.98658\n",
      "Epoch 8/15\n",
      "5068/5068 [==============================] - 1015s 200ms/step - loss: 2.4098e-05 - acc: 1.0000 - val_loss: 0.2936 - val_acc: 0.9755\n",
      "\n",
      "Epoch 00008: val_acc did not improve from 0.98658\n",
      "Epoch 9/15\n",
      "5068/5068 [==============================] - 1219s 241ms/step - loss: 0.0023 - acc: 0.9992 - val_loss: 0.1741 - val_acc: 0.9850\n",
      "\n",
      "Epoch 00009: val_acc did not improve from 0.98658\n",
      "Epoch 10/15\n",
      "5068/5068 [==============================] - 1009s 199ms/step - loss: 1.1957e-07 - acc: 1.0000 - val_loss: 0.1867 - val_acc: 0.9866\n",
      "\n",
      "Epoch 00010: val_acc did not improve from 0.98658\n",
      "Epoch 11/15\n",
      "5068/5068 [==============================] - 6616s 1s/step - loss: 1.1923e-07 - acc: 1.0000 - val_loss: 0.1726 - val_acc: 0.9858\n",
      "\n",
      "Epoch 00011: val_acc did not improve from 0.98658\n",
      "Epoch 12/15\n",
      "5068/5068 [==============================] - 6802s 1s/step - loss: 1.1921e-07 - acc: 1.0000 - val_loss: 0.1726 - val_acc: 0.9858\n",
      "\n",
      "Epoch 00012: val_acc did not improve from 0.98658\n",
      "Epoch 13/15\n",
      "5068/5068 [==============================] - 7548s 1s/step - loss: 1.1921e-07 - acc: 1.0000 - val_loss: 0.1726 - val_acc: 0.9858\n",
      "\n",
      "Epoch 00013: val_acc did not improve from 0.98658\n",
      "Epoch 14/15\n",
      "5068/5068 [==============================] - 6809s 1s/step - loss: 1.1921e-07 - acc: 1.0000 - val_loss: 0.1726 - val_acc: 0.9858\n",
      "\n",
      "Epoch 00014: val_acc did not improve from 0.98658\n",
      "Epoch 15/15\n",
      "2882/5068 [================>.............] - ETA: 7:06 - loss: 1.1921e-07 - acc: 1.0000"
     ]
    }
   ],
   "source": [
    "cp=ModelCheckpoint('model_han_.hdf5',monitor='val_acc',verbose=1,save_best_only=True)\n",
    "history=model.fit(x_train, y_train, validation_data=(x_val, y_val),\n",
    "          epochs=15, batch_size=2,callbacks=[cp])"
   ]
  },
  {
   "cell_type": "code",
   "execution_count": null,
   "metadata": {
    "colab": {
     "autoexec": {
      "startup": false,
      "wait_interval": 0
     },
     "base_uri": "https://localhost:8080/",
     "height": 302
    },
    "colab_type": "code",
    "collapsed": false,
    "executionInfo": {
     "elapsed": 2221,
     "status": "ok",
     "timestamp": 1530793153471,
     "user": {
      "displayName": "Akshat Maheshwari",
      "photoUrl": "//lh5.googleusercontent.com/-f-xJkriVoaI/AAAAAAAAAAI/AAAAAAAAAVQ/TLGa4qObGgQ/s50-c-k-no/photo.jpg",
      "userId": "114426356464940466000"
     },
     "user_tz": -330
    },
    "id": "s2trhmd3RNkk",
    "outputId": "618201e7-902b-4de9-bd5e-e4a05b65c931"
   },
   "outputs": [],
   "source": []
  },
  {
   "cell_type": "code",
   "execution_count": null,
   "metadata": {
    "colab": {
     "autoexec": {
      "startup": false,
      "wait_interval": 0
     },
     "base_uri": "https://localhost:8080/",
     "height": 302
    },
    "colab_type": "code",
    "collapsed": false,
    "executionInfo": {
     "elapsed": 1471,
     "status": "ok",
     "timestamp": 1530793155073,
     "user": {
      "displayName": "Akshat Maheshwari",
      "photoUrl": "//lh5.googleusercontent.com/-f-xJkriVoaI/AAAAAAAAAAI/AAAAAAAAAVQ/TLGa4qObGgQ/s50-c-k-no/photo.jpg",
      "userId": "114426356464940466000"
     },
     "user_tz": -330
    },
    "id": "ckA37QnERtzu",
    "outputId": "451e6f61-7eec-4904-ed24-e68adec92156"
   },
   "outputs": [],
   "source": []
  },
  {
   "cell_type": "code",
   "execution_count": null,
   "metadata": {
    "colab": {
     "autoexec": {
      "startup": false,
      "wait_interval": 0
     }
    },
    "colab_type": "code",
    "collapsed": true,
    "id": "gY9XUmT9k6Rb"
   },
   "outputs": [],
   "source": []
  },
  {
   "cell_type": "code",
   "execution_count": null,
   "metadata": {
    "colab": {
     "autoexec": {
      "startup": false,
      "wait_interval": 0
     },
     "base_uri": "https://localhost:8080/",
     "height": 422
    },
    "colab_type": "code",
    "collapsed": false,
    "executionInfo": {
     "elapsed": 1061,
     "status": "ok",
     "timestamp": 1530797447889,
     "user": {
      "displayName": "Akshat Maheshwari",
      "photoUrl": "//lh5.googleusercontent.com/-f-xJkriVoaI/AAAAAAAAAAI/AAAAAAAAAVQ/TLGa4qObGgQ/s50-c-k-no/photo.jpg",
      "userId": "114426356464940466000"
     },
     "user_tz": -330
    },
    "id": "oIYhXM6Yoqog",
    "outputId": "dcb579d9-50e0-4a9a-e16e-dc92c33cf0a1"
   },
   "outputs": [],
   "source": []
  },
  {
   "cell_type": "code",
   "execution_count": 0,
   "metadata": {
    "colab": {
     "autoexec": {
      "startup": false,
      "wait_interval": 0
     }
    },
    "colab_type": "code",
    "collapsed": true,
    "id": "Bc3K9kObo1Zc"
   },
   "outputs": [],
   "source": []
  }
 ],
 "metadata": {
  "anaconda-cloud": {},
  "colab": {
   "default_view": {},
   "name": "HAN.ipynb",
   "provenance": [],
   "version": "0.3.2",
   "views": {}
  },
  "kernelspec": {
   "display_name": "Python [default]",
   "language": "python",
   "name": "python3"
  },
  "language_info": {
   "codemirror_mode": {
    "name": "ipython",
    "version": 3
   },
   "file_extension": ".py",
   "mimetype": "text/x-python",
   "name": "python",
   "nbconvert_exporter": "python",
   "pygments_lexer": "ipython3",
   "version": "3.5.5"
  }
 },
 "nbformat": 4,
 "nbformat_minor": 1
}
